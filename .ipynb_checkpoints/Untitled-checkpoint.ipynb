{
 "cells": [
  {
   "cell_type": "markdown",
   "id": "76a481c1",
   "metadata": {},
   "source": []
  },
  {
   "cell_type": "markdown",
   "id": "cf174c72",
   "metadata": {},
   "source": []
  },
  {
   "cell_type": "markdown",
   "id": "097c84b1",
   "metadata": {},
   "source": []
  },
  {
   "cell_type": "code",
   "execution_count": null,
   "id": "2d8130a4",
   "metadata": {
    "vscode": {
     "languageId": "plaintext"
    }
   },
   "outputs": [],
   "source": [
    "M\n",
    "A"
   ]
  }
 ],
 "metadata": {
  "language_info": {
   "name": "python"
  }
 },
 "nbformat": 4,
 "nbformat_minor": 5
}
